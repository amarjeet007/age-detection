{
 "cells": [
  {
   "cell_type": "code",
   "execution_count": 71,
   "metadata": {},
   "outputs": [],
   "source": [
    "import numpy as np\n",
    "import pandas as pd\n",
    "import os\n",
    "import cv2\n"
   ]
  },
  {
   "cell_type": "code",
   "execution_count": 72,
   "metadata": {},
   "outputs": [
    {
     "data": {
      "text/html": [
       "<div>\n",
       "<style>\n",
       "    .dataframe thead tr:only-child th {\n",
       "        text-align: right;\n",
       "    }\n",
       "\n",
       "    .dataframe thead th {\n",
       "        text-align: left;\n",
       "    }\n",
       "\n",
       "    .dataframe tbody tr th {\n",
       "        vertical-align: top;\n",
       "    }\n",
       "</style>\n",
       "<table border=\"1\" class=\"dataframe\">\n",
       "  <thead>\n",
       "    <tr style=\"text-align: right;\">\n",
       "      <th></th>\n",
       "      <th>ID</th>\n",
       "      <th>Class</th>\n",
       "    </tr>\n",
       "  </thead>\n",
       "  <tbody>\n",
       "    <tr>\n",
       "      <th>0</th>\n",
       "      <td>377.jpg</td>\n",
       "      <td>MIDDLE</td>\n",
       "    </tr>\n",
       "    <tr>\n",
       "      <th>1</th>\n",
       "      <td>17814.jpg</td>\n",
       "      <td>YOUNG</td>\n",
       "    </tr>\n",
       "    <tr>\n",
       "      <th>2</th>\n",
       "      <td>21283.jpg</td>\n",
       "      <td>MIDDLE</td>\n",
       "    </tr>\n",
       "    <tr>\n",
       "      <th>3</th>\n",
       "      <td>16496.jpg</td>\n",
       "      <td>YOUNG</td>\n",
       "    </tr>\n",
       "    <tr>\n",
       "      <th>4</th>\n",
       "      <td>4487.jpg</td>\n",
       "      <td>MIDDLE</td>\n",
       "    </tr>\n",
       "  </tbody>\n",
       "</table>\n",
       "</div>"
      ],
      "text/plain": [
       "          ID   Class\n",
       "0    377.jpg  MIDDLE\n",
       "1  17814.jpg   YOUNG\n",
       "2  21283.jpg  MIDDLE\n",
       "3  16496.jpg   YOUNG\n",
       "4   4487.jpg  MIDDLE"
      ]
     },
     "execution_count": 72,
     "metadata": {},
     "output_type": "execute_result"
    }
   ],
   "source": [
    "train=pd.read_csv('train.csv')\n",
    "train.head()"
   ]
  },
  {
   "cell_type": "code",
   "execution_count": 73,
   "metadata": {},
   "outputs": [
    {
     "data": {
      "text/html": [
       "<div>\n",
       "<style>\n",
       "    .dataframe thead tr:only-child th {\n",
       "        text-align: right;\n",
       "    }\n",
       "\n",
       "    .dataframe thead th {\n",
       "        text-align: left;\n",
       "    }\n",
       "\n",
       "    .dataframe tbody tr th {\n",
       "        vertical-align: top;\n",
       "    }\n",
       "</style>\n",
       "<table border=\"1\" class=\"dataframe\">\n",
       "  <thead>\n",
       "    <tr style=\"text-align: right;\">\n",
       "      <th></th>\n",
       "      <th>ID</th>\n",
       "    </tr>\n",
       "  </thead>\n",
       "  <tbody>\n",
       "    <tr>\n",
       "      <th>0</th>\n",
       "      <td>25321.jpg</td>\n",
       "    </tr>\n",
       "    <tr>\n",
       "      <th>1</th>\n",
       "      <td>989.jpg</td>\n",
       "    </tr>\n",
       "    <tr>\n",
       "      <th>2</th>\n",
       "      <td>19277.jpg</td>\n",
       "    </tr>\n",
       "    <tr>\n",
       "      <th>3</th>\n",
       "      <td>13093.jpg</td>\n",
       "    </tr>\n",
       "    <tr>\n",
       "      <th>4</th>\n",
       "      <td>5367.jpg</td>\n",
       "    </tr>\n",
       "  </tbody>\n",
       "</table>\n",
       "</div>"
      ],
      "text/plain": [
       "          ID\n",
       "0  25321.jpg\n",
       "1    989.jpg\n",
       "2  19277.jpg\n",
       "3  13093.jpg\n",
       "4   5367.jpg"
      ]
     },
     "execution_count": 73,
     "metadata": {},
     "output_type": "execute_result"
    }
   ],
   "source": [
    "test=pd.read_csv('test.csv')\n",
    "test.head()"
   ]
  },
  {
   "cell_type": "code",
   "execution_count": 74,
   "metadata": {},
   "outputs": [
    {
     "data": {
      "text/html": [
       "<div>\n",
       "<style>\n",
       "    .dataframe thead tr:only-child th {\n",
       "        text-align: right;\n",
       "    }\n",
       "\n",
       "    .dataframe thead th {\n",
       "        text-align: left;\n",
       "    }\n",
       "\n",
       "    .dataframe tbody tr th {\n",
       "        vertical-align: top;\n",
       "    }\n",
       "</style>\n",
       "<table border=\"1\" class=\"dataframe\">\n",
       "  <thead>\n",
       "    <tr style=\"text-align: right;\">\n",
       "      <th></th>\n",
       "      <th>ID</th>\n",
       "      <th>Class</th>\n",
       "    </tr>\n",
       "  </thead>\n",
       "  <tbody>\n",
       "    <tr>\n",
       "      <th>count</th>\n",
       "      <td>19906</td>\n",
       "      <td>19906</td>\n",
       "    </tr>\n",
       "    <tr>\n",
       "      <th>unique</th>\n",
       "      <td>19906</td>\n",
       "      <td>3</td>\n",
       "    </tr>\n",
       "    <tr>\n",
       "      <th>top</th>\n",
       "      <td>5050.jpg</td>\n",
       "      <td>MIDDLE</td>\n",
       "    </tr>\n",
       "    <tr>\n",
       "      <th>freq</th>\n",
       "      <td>1</td>\n",
       "      <td>10804</td>\n",
       "    </tr>\n",
       "  </tbody>\n",
       "</table>\n",
       "</div>"
      ],
      "text/plain": [
       "              ID   Class\n",
       "count      19906   19906\n",
       "unique     19906       3\n",
       "top     5050.jpg  MIDDLE\n",
       "freq           1   10804"
      ]
     },
     "execution_count": 74,
     "metadata": {},
     "output_type": "execute_result"
    }
   ],
   "source": [
    "train.describe()"
   ]
  },
  {
   "cell_type": "code",
   "execution_count": 75,
   "metadata": {},
   "outputs": [],
   "source": [
    "def image_read(imglist,path):\n",
    "    image_array=[]\n",
    "    for i in imglist:\n",
    "        image=cv2.imread(path+i)\n",
    "        image=cv2.resize(image,(64,64))\n",
    "        image_array.append(image)\n",
    "    image_array=np.array(image_array)    \n",
    "    return image_array"
   ]
  },
  {
   "cell_type": "code",
   "execution_count": 76,
   "metadata": {},
   "outputs": [],
   "source": [
    "train_img_path=\"Train/\"\n",
    "imglist=train['ID']\n",
    "#print(imglist)\n",
    "X_train=image_read(imglist,train_img_path)"
   ]
  },
  {
   "cell_type": "code",
   "execution_count": 77,
   "metadata": {},
   "outputs": [
    {
     "data": {
      "text/plain": [
       "(19906, 64, 64, 3)"
      ]
     },
     "execution_count": 77,
     "metadata": {},
     "output_type": "execute_result"
    }
   ],
   "source": [
    "X_train.shape"
   ]
  },
  {
   "cell_type": "code",
   "execution_count": 78,
   "metadata": {},
   "outputs": [],
   "source": [
    "test_img_path=\"Test/\"\n",
    "imglist1=test['ID']\n",
    "X_test=image_read(imglist1,test_img_path)"
   ]
  },
  {
   "cell_type": "code",
   "execution_count": 79,
   "metadata": {},
   "outputs": [
    {
     "data": {
      "text/plain": [
       "(6636, 64, 64, 3)"
      ]
     },
     "execution_count": 79,
     "metadata": {},
     "output_type": "execute_result"
    }
   ],
   "source": [
    "X_test.shape"
   ]
  },
  {
   "cell_type": "code",
   "execution_count": 80,
   "metadata": {},
   "outputs": [],
   "source": [
    "X_train=X_train/255"
   ]
  },
  {
   "cell_type": "code",
   "execution_count": 81,
   "metadata": {},
   "outputs": [],
   "source": [
    "X_test=X_test/255"
   ]
  },
  {
   "cell_type": "code",
   "execution_count": 82,
   "metadata": {},
   "outputs": [],
   "source": [
    "Y_train=train['Class']\n",
    "Y_train = Y_train.map({'YOUNG': 0, 'MIDDLE': 1, 'OLD': 2})"
   ]
  },
  {
   "cell_type": "code",
   "execution_count": 83,
   "metadata": {},
   "outputs": [],
   "source": [
    "from sklearn.preprocessing import LabelBinarizer \n",
    "label_binarizer = LabelBinarizer()\n",
    "label_binarizer.fit(Y_train)\n",
    "\n",
    "Y_train=label_binarizer.transform(Y_train)\n"
   ]
  },
  {
   "cell_type": "code",
   "execution_count": 84,
   "metadata": {},
   "outputs": [],
   "source": [
    "from keras.layers import Input,InputLayer, Dense, Activation, ZeroPadding2D, BatchNormalization, Flatten, Conv2D\n",
    "from keras.layers import AveragePooling2D, MaxPooling2D, Dropout\n",
    "from keras.models import Sequential,Model\n",
    "from keras.callbacks import ModelCheckpoint"
   ]
  },
  {
   "cell_type": "code",
   "execution_count": 85,
   "metadata": {},
   "outputs": [],
   "source": [
    "inputShape=(64,64,3)\n"
   ]
  },
  {
   "cell_type": "code",
   "execution_count": 86,
   "metadata": {},
   "outputs": [],
   "source": [
    "input = Input(inputShape)\n",
    "#x = Conv2D(32,(3,3),strides = (1,1),name='conv_layer1')(xInput)\n",
    "\n",
    "x = Conv2D(64,(3,3),strides = (1,1),name='layer_conv1',padding='same')(input)\n",
    "x = BatchNormalization()(x)\n",
    "x = Activation('relu')(x)\n",
    "x = MaxPooling2D((2,2),name='maxPool1')(x)\n",
    "#x = Dropout(0.5)(x)\n",
    "\n",
    "x = Conv2D(128,(3,3),strides = (1,1),name='layer_conv2')(x)\n",
    "x = BatchNormalization()(x)\n",
    "x = Activation('relu')(x)\n",
    "x = MaxPooling2D((2,2),name='maxPool2')(x)\n",
    "#x = Dropout(0.5)(x)\n",
    "\n",
    "x = Conv2D(128,(3,3),strides = (1,1),name='layer_conv3')(x)\n",
    "x = BatchNormalization()(x)\n",
    "x = Activation('relu')(x)\n",
    "x = MaxPooling2D((2,2),name='maxPool3')(x)\n",
    "#x = Dropout(0.5)(x)\n",
    "\n",
    "x = Conv2D(64,(3,3),strides = (1,1),name='conv4')(x)\n",
    "x = BatchNormalization()(x)\n",
    "x = Activation('relu')(x)\n",
    "x = MaxPooling2D((2,2),name='maxPool4')(x)\n",
    "\n",
    "\n",
    "x = Flatten()(x)\n",
    "x = Dense(64,activation = 'relu',name='fc0')(x)\n",
    "x = Dropout(0.25)(x)\n",
    "x = Dense(32,activation = 'relu',name='fc1')(x)\n",
    "x = Dropout(0.25)(x)\n",
    "x = Dense(3,activation = 'softmax',name='fc2')(x)\n",
    "\n",
    "model = Model(inputs = input,outputs = x,name='Predict')\n",
    "\n",
    "   "
   ]
  },
  {
   "cell_type": "code",
   "execution_count": 87,
   "metadata": {},
   "outputs": [
    {
     "name": "stdout",
     "output_type": "stream",
     "text": [
      "_________________________________________________________________\n",
      "Layer (type)                 Output Shape              Param #   \n",
      "=================================================================\n",
      "input_16 (InputLayer)        (None, 64, 64, 3)         0         \n",
      "_________________________________________________________________\n",
      "layer_conv1 (Conv2D)         (None, 64, 64, 64)        1792      \n",
      "_________________________________________________________________\n",
      "batch_normalization_54 (Batc (None, 64, 64, 64)        256       \n",
      "_________________________________________________________________\n",
      "activation_54 (Activation)   (None, 64, 64, 64)        0         \n",
      "_________________________________________________________________\n",
      "maxPool1 (MaxPooling2D)      (None, 32, 32, 64)        0         \n",
      "_________________________________________________________________\n",
      "layer_conv2 (Conv2D)         (None, 30, 30, 128)       73856     \n",
      "_________________________________________________________________\n",
      "batch_normalization_55 (Batc (None, 30, 30, 128)       512       \n",
      "_________________________________________________________________\n",
      "activation_55 (Activation)   (None, 30, 30, 128)       0         \n",
      "_________________________________________________________________\n",
      "maxPool2 (MaxPooling2D)      (None, 15, 15, 128)       0         \n",
      "_________________________________________________________________\n",
      "layer_conv3 (Conv2D)         (None, 13, 13, 128)       147584    \n",
      "_________________________________________________________________\n",
      "batch_normalization_56 (Batc (None, 13, 13, 128)       512       \n",
      "_________________________________________________________________\n",
      "activation_56 (Activation)   (None, 13, 13, 128)       0         \n",
      "_________________________________________________________________\n",
      "maxPool3 (MaxPooling2D)      (None, 6, 6, 128)         0         \n",
      "_________________________________________________________________\n",
      "conv4 (Conv2D)               (None, 4, 4, 64)          73792     \n",
      "_________________________________________________________________\n",
      "batch_normalization_57 (Batc (None, 4, 4, 64)          256       \n",
      "_________________________________________________________________\n",
      "activation_57 (Activation)   (None, 4, 4, 64)          0         \n",
      "_________________________________________________________________\n",
      "maxPool4 (MaxPooling2D)      (None, 2, 2, 64)          0         \n",
      "_________________________________________________________________\n",
      "flatten_16 (Flatten)         (None, 256)               0         \n",
      "_________________________________________________________________\n",
      "fc0 (Dense)                  (None, 64)                16448     \n",
      "_________________________________________________________________\n",
      "dropout_42 (Dropout)         (None, 64)                0         \n",
      "_________________________________________________________________\n",
      "fc1 (Dense)                  (None, 32)                2080      \n",
      "_________________________________________________________________\n",
      "dropout_43 (Dropout)         (None, 32)                0         \n",
      "_________________________________________________________________\n",
      "fc2 (Dense)                  (None, 3)                 99        \n",
      "=================================================================\n",
      "Total params: 317,187\n",
      "Trainable params: 316,419\n",
      "Non-trainable params: 768\n",
      "_________________________________________________________________\n"
     ]
    }
   ],
   "source": [
    "model.summary()"
   ]
  },
  {
   "cell_type": "code",
   "execution_count": 88,
   "metadata": {},
   "outputs": [],
   "source": [
    "model.save_weights('initial_weights.h5')"
   ]
  },
  {
   "cell_type": "code",
   "execution_count": 89,
   "metadata": {},
   "outputs": [],
   "source": [
    "model.compile(optimizer='adam', loss='categorical_crossentropy', metrics=['accuracy'])"
   ]
  },
  {
   "cell_type": "code",
   "execution_count": 90,
   "metadata": {},
   "outputs": [
    {
     "name": "stdout",
     "output_type": "stream",
     "text": [
      "Epoch 1/40\n",
      "19906/19906 [==============================] - 27s 1ms/step - loss: 0.8575 - acc: 0.6218\n",
      "Epoch 2/40\n",
      "  128/19906 [..............................] - ETA: 24s - loss: 0.7416 - acc: 0.7188"
     ]
    },
    {
     "name": "stderr",
     "output_type": "stream",
     "text": [
      "/opt/conda/lib/python3.6/site-packages/keras/callbacks.py:402: RuntimeWarning: Can save best model only with val_loss available, skipping.\n",
      "  'skipping.' % (self.monitor), RuntimeWarning)\n"
     ]
    },
    {
     "name": "stdout",
     "output_type": "stream",
     "text": [
      "19906/19906 [==============================] - 25s 1ms/step - loss: 0.7419 - acc: 0.6825\n",
      "Epoch 3/40\n",
      "19906/19906 [==============================] - 25s 1ms/step - loss: 0.6674 - acc: 0.7126\n",
      "Epoch 4/40\n",
      "19906/19906 [==============================] - 25s 1ms/step - loss: 0.6151 - acc: 0.7386\n",
      "Epoch 5/40\n",
      "19906/19906 [==============================] - 25s 1ms/step - loss: 0.5792 - acc: 0.7572\n",
      "Epoch 6/40\n",
      "19906/19906 [==============================] - 25s 1ms/step - loss: 0.5398 - acc: 0.7741\n",
      "Epoch 7/40\n",
      "19906/19906 [==============================] - 25s 1ms/step - loss: 0.5029 - acc: 0.7915\n",
      "Epoch 8/40\n",
      "19906/19906 [==============================] - 25s 1ms/step - loss: 0.4626 - acc: 0.8099\n",
      "Epoch 9/40\n",
      "19906/19906 [==============================] - 25s 1ms/step - loss: 0.4305 - acc: 0.8234\n",
      "Epoch 10/40\n",
      "19906/19906 [==============================] - 25s 1ms/step - loss: 0.3999 - acc: 0.8406\n",
      "Epoch 11/40\n",
      "19906/19906 [==============================] - 25s 1ms/step - loss: 0.3711 - acc: 0.8523\n",
      "Epoch 12/40\n",
      "19906/19906 [==============================] - 25s 1ms/step - loss: 0.3278 - acc: 0.8694\n",
      "Epoch 13/40\n",
      "19906/19906 [==============================] - 25s 1ms/step - loss: 0.2977 - acc: 0.8814\n",
      "Epoch 14/40\n",
      "19906/19906 [==============================] - 25s 1ms/step - loss: 0.2698 - acc: 0.8955\n",
      "Epoch 15/40\n",
      "19906/19906 [==============================] - 25s 1ms/step - loss: 0.2507 - acc: 0.9029\n",
      "Epoch 16/40\n",
      "19906/19906 [==============================] - 25s 1ms/step - loss: 0.2184 - acc: 0.9160\n",
      "Epoch 17/40\n",
      "19906/19906 [==============================] - 25s 1ms/step - loss: 0.1971 - acc: 0.9264\n",
      "Epoch 18/40\n",
      "19906/19906 [==============================] - 25s 1ms/step - loss: 0.1815 - acc: 0.9303\n",
      "Epoch 19/40\n",
      "19906/19906 [==============================] - 25s 1ms/step - loss: 0.1667 - acc: 0.9370\n",
      "Epoch 20/40\n",
      "19906/19906 [==============================] - 25s 1ms/step - loss: 0.1475 - acc: 0.9438\n",
      "Epoch 21/40\n",
      "19906/19906 [==============================] - 25s 1ms/step - loss: 0.1434 - acc: 0.9464\n",
      "Epoch 22/40\n",
      "19906/19906 [==============================] - 25s 1ms/step - loss: 0.1219 - acc: 0.9568\n",
      "Epoch 23/40\n",
      "19906/19906 [==============================] - 25s 1ms/step - loss: 0.1121 - acc: 0.9567\n",
      "Epoch 24/40\n",
      "19906/19906 [==============================] - 25s 1ms/step - loss: 0.1131 - acc: 0.9594\n",
      "Epoch 25/40\n",
      "19906/19906 [==============================] - 25s 1ms/step - loss: 0.1040 - acc: 0.9624\n",
      "Epoch 26/40\n",
      "19906/19906 [==============================] - 25s 1ms/step - loss: 0.0822 - acc: 0.9706\n",
      "Epoch 27/40\n",
      "19906/19906 [==============================] - 25s 1ms/step - loss: 0.0811 - acc: 0.9708\n",
      "Epoch 28/40\n",
      "19906/19906 [==============================] - 25s 1ms/step - loss: 0.0845 - acc: 0.9690\n",
      "Epoch 29/40\n",
      "19906/19906 [==============================] - 25s 1ms/step - loss: 0.0739 - acc: 0.9740\n",
      "Epoch 30/40\n",
      "19906/19906 [==============================] - 25s 1ms/step - loss: 0.0702 - acc: 0.9757\n",
      "Epoch 31/40\n",
      "19906/19906 [==============================] - 25s 1ms/step - loss: 0.0688 - acc: 0.9753\n",
      "Epoch 32/40\n",
      "19906/19906 [==============================] - 25s 1ms/step - loss: 0.0665 - acc: 0.9753\n",
      "Epoch 33/40\n",
      "19906/19906 [==============================] - 25s 1ms/step - loss: 0.0582 - acc: 0.9797\n",
      "Epoch 34/40\n",
      "19906/19906 [==============================] - 25s 1ms/step - loss: 0.0604 - acc: 0.9792\n",
      "Epoch 35/40\n",
      "19906/19906 [==============================] - 25s 1ms/step - loss: 0.0524 - acc: 0.9822\n",
      "Epoch 36/40\n",
      "19906/19906 [==============================] - 25s 1ms/step - loss: 0.0480 - acc: 0.9839\n",
      "Epoch 37/40\n",
      "19906/19906 [==============================] - 25s 1ms/step - loss: 0.0539 - acc: 0.9805\n",
      "Epoch 38/40\n",
      "19906/19906 [==============================] - 25s 1ms/step - loss: 0.0515 - acc: 0.9821\n",
      "Epoch 39/40\n",
      "19906/19906 [==============================] - 25s 1ms/step - loss: 0.0496 - acc: 0.9835\n",
      "Epoch 40/40\n",
      "19906/19906 [==============================] - 25s 1ms/step - loss: 0.0449 - acc: 0.9851\n"
     ]
    },
    {
     "data": {
      "text/plain": [
       "<keras.callbacks.History at 0x7f5263118080>"
      ]
     },
     "execution_count": 90,
     "metadata": {},
     "output_type": "execute_result"
    }
   ],
   "source": [
    "checkpointer = ModelCheckpoint(filepath='/weights.h5', verbose=1, save_best_only=True)\n",
    "model.fit(X_train,Y_train,epochs = 40,batch_size = 128,callbacks=[checkpointer])"
   ]
  },
  {
   "cell_type": "code",
   "execution_count": 93,
   "metadata": {},
   "outputs": [
    {
     "name": "stdout",
     "output_type": "stream",
     "text": [
      "19906/19906 [==============================] - 10s 504us/step\n",
      "Accuracy : 98.3773736562\n",
      "Total Loss  4.39766364003\n"
     ]
    }
   ],
   "source": [
    "pred=model.evaluate(X_train,Y_train)\n",
    "print(\"Accuracy : \" +str(pred[1]*100))\n",
    "print(\"Total Loss  \" +str(pred[0]*100))"
   ]
  },
  {
   "cell_type": "code",
   "execution_count": 95,
   "metadata": {},
   "outputs": [],
   "source": [
    "model.save_weights('final_weight.h5')"
   ]
  },
  {
   "cell_type": "code",
   "execution_count": 96,
   "metadata": {},
   "outputs": [],
   "source": [
    "predictions = model.predict(X_test)\n",
    "predictions = np.argmax(predictions, axis= 1)"
   ]
  },
  {
   "cell_type": "code",
   "execution_count": 97,
   "metadata": {},
   "outputs": [
    {
     "name": "stdout",
     "output_type": "stream",
     "text": [
      "[1 0 0 1 1 1 1 0 1 1]\n"
     ]
    }
   ],
   "source": []
  },
  {
   "cell_type": "code",
   "execution_count": 98,
   "metadata": {},
   "outputs": [],
   "source": [
    "classes={0: 'YOUNG', 1: 'MIDDLE', 2: 'OLD'}"
   ]
  },
  {
   "cell_type": "code",
   "execution_count": 99,
   "metadata": {},
   "outputs": [],
   "source": [
    "predicted_class=[classes[x] for x in predictions]"
   ]
  },
  {
   "cell_type": "code",
   "execution_count": 100,
   "metadata": {},
   "outputs": [
    {
     "data": {
      "text/plain": [
       "['MIDDLE', 'YOUNG', 'YOUNG']"
      ]
     },
     "execution_count": 100,
     "metadata": {},
     "output_type": "execute_result"
    }
   ],
   "source": [
    "predicted_class[0:3]"
   ]
  },
  {
   "cell_type": "code",
   "execution_count": 101,
   "metadata": {},
   "outputs": [],
   "source": [
    "sub = pd.DataFrame({\n",
    "    \"Class\": predicted_class,\n",
    "    \"ID\": test['ID']\n",
    "})"
   ]
  },
  {
   "cell_type": "code",
   "execution_count": 102,
   "metadata": {},
   "outputs": [],
   "source": [
    "sub.to_csv(\"predicted_class.csv\", index=False)"
   ]
  },
  {
   "cell_type": "code",
   "execution_count": null,
   "metadata": {},
   "outputs": [],
   "source": []
  }
 ],
 "metadata": {
  "kernelspec": {
   "display_name": "Python 3",
   "language": "python",
   "name": "python3"
  },
  "language_info": {
   "codemirror_mode": {
    "name": "ipython",
    "version": 3
   },
   "file_extension": ".py",
   "mimetype": "text/x-python",
   "name": "python",
   "nbconvert_exporter": "python",
   "pygments_lexer": "ipython3",
   "version": "3.6.3"
  }
 },
 "nbformat": 4,
 "nbformat_minor": 2
}
